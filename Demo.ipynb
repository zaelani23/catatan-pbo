{
 "cells": [
  {
   "cell_type": "markdown",
   "metadata": {},
   "source": [
    "1. Buatlah program berbasis class untuk permasalahan berikut: <br>\n",
    "    Class Pegawai, dengan atribut : No, Nama, Tanggal Lahir dan method : hitung umur sekarang (didapat dari tahun sekarang dikurangi dengan tanggal lahir)<br>\n",
    "    Buatlah beberapa object pegawai dengan menampilkan no,nama dan umur saat ini"
   ]
  },
  {
   "cell_type": "code",
   "execution_count": 1,
   "metadata": {},
   "outputs": [
    {
     "name": "stdout",
     "output_type": "stream",
     "text": [
      "Nama : Mohamad Zaelani\n",
      "Nomor : 1762367166176\n",
      "Umur : 19\n",
      "Nama : Bambang\n",
      "Nomor : 1515156165365\n",
      "Umur : 22\n",
      "Nama : Joko\n",
      "Nomor : 1973766762763\n",
      "Umur : 26\n"
     ]
    }
   ],
   "source": [
    "from datetime import datetime\n",
    "sekarang = datetime.now()\n",
    "tahun = sekarang.year\n",
    "\n",
    "class Pegawai:\n",
    "    def __init__(self,nomor,n,lahir):\n",
    "        self.nomor = nomor\n",
    "        self.nama = n\n",
    "        self.tahunlahir = lahir[4:8]\n",
    "    def hitungumur(self):\n",
    "        print(\"Nama :\",self.nama)\n",
    "        print(\"Nomor :\",self.nomor)\n",
    "        print(\"Umur :\",tahun - int(self.tahunlahir))\n",
    "\n",
    "p1 = Pegawai(\"1762367166176\",\"Mohamad Zaelani\",\"23032000\")\n",
    "p1.hitungumur()\n",
    "p2 = Pegawai(\"1515156165365\",\"Bambang\",\"12091997\")\n",
    "p2.hitungumur()\n",
    "p2 = Pegawai(\"1973766762763\",\"Joko\",\"12091993\")\n",
    "p2.hitungumur()"
   ]
  },
  {
   "cell_type": "markdown",
   "metadata": {},
   "source": [
    "2. Buatlah Kelas Segitiga, dengan atribut alas dan tinggi dan method menampilkan alas dan tinggi, menghitung luasAlas (yaitu luas segitiga tersebut). Buatlah kelas PrismaSegitiga (merupakan sub kelas dari Segitiga), dengan atribut tambahan tinggi prisma dan method luaspermukaan(yaitu luas permukaan prisma). Buatlah konsep Superclass dan Overriding untuk luas permukaan."
   ]
  },
  {
   "cell_type": "code",
   "execution_count": 2,
   "metadata": {},
   "outputs": [
    {
     "name": "stdout",
     "output_type": "stream",
     "text": [
      "Alas: 10\n",
      "tinggi: 12\n",
      "Luas segitiga = 60.0 cm2\n",
      "Tinggi prisma: 10\n",
      "Luas permukaan prisma = 480.0\n",
      "Alas: 8\n",
      "tinggi: 6\n",
      "Luas segitiga = 24.0 cm2\n",
      "Tinggi prisma: 9\n",
      "Luas permukaan prisma = 192.0\n"
     ]
    }
   ],
   "source": [
    "#Anggap segitiga adalah sama sisi\n",
    "class Segitiga:\n",
    "    def __init__(self,alas,tinggi):\n",
    "        self.alas = alas\n",
    "        self.tinggi = tinggi\n",
    "        self.luas = 0.5 * self.alas * self.tinggi\n",
    "    def tampilkan(self):\n",
    "        print(\"Alas:\",self.alas)\n",
    "        print(\"tinggi:\",self.tinggi)\n",
    "    def luas(self):\n",
    "        print(\"Luas segitiga =\",self.luas,\"cm2\")\n",
    "class PrismaSegitiga(Segitiga):\n",
    "    def __init__(self,alas,tinggi,tinggiprisma):\n",
    "        #superclass\n",
    "        super().__init__(alas,tinggi)\n",
    "        self.tinggiprisma = tinggiprisma\n",
    "    def luaspermukaan(self):\n",
    "        self.luasselimut = 3*(self.alas*self.tinggi)\n",
    "        self.luaspermukaan = 2*self.luas + self.luasselimut\n",
    "    #Overriding\n",
    "    def tampilkan(self):\n",
    "        #superclass\n",
    "        super().tampilkan()\n",
    "        super().luas()\n",
    "        print(\"Tinggi prisma:\",self.tinggiprisma)\n",
    "        print(\"Luas permukaan prisma =\",self.luaspermukaan)\n",
    "\n",
    "segitiga1 = PrismaSegitiga(10,12,10)\n",
    "segitiga1.luaspermukaan()\n",
    "segitiga1.tampilkan()\n",
    "\n",
    "segitiga2 = PrismaSegitiga(8,6,9)\n",
    "segitiga2.luaspermukaan()\n",
    "segitiga2.tampilkan()"
   ]
  },
  {
   "cell_type": "markdown",
   "metadata": {},
   "source": [
    "3. <img src=\"soal3.jpg\">"
   ]
  },
  {
   "cell_type": "code",
   "execution_count": 2,
   "metadata": {},
   "outputs": [
    {
     "name": "stdout",
     "output_type": "stream",
     "text": [
      "Kode: 002\n",
      "Deskripsi: Pakaian\n",
      "Nama: Kaos\n",
      "Harga: Rp. 55000\n",
      "Diskon: 10%\n",
      "Ukuran: L\n",
      "\n",
      "Kode: 001\n",
      "Deskripsi: Makanan\n",
      "Nama: Sato Ayam\n",
      "Harga: Rp. 10000\n",
      "Diskon: 0%\n",
      "ExDate: 29/03/2019\n",
      "\n",
      "Kode: 002\n",
      "Deskripsi: Pakaian\n",
      "Nama: Kaos\n",
      "Harga: Rp. 55000\n",
      "Diskon: 10%\n",
      "Ukuran: L\n",
      "\n",
      "Kode: 001\n",
      "Deskripsi: Makanan\n",
      "Nama: Sato Ayam\n",
      "Harga: Rp. 10000\n",
      "Diskon: 0%\n",
      "ExDate: 29/03/2019\n",
      "\n"
     ]
    }
   ],
   "source": [
    "class Kategori:\n",
    "    def __init__(self,kode):\n",
    "        self.kode = kode\n",
    "        if self.kode == \"001\":\n",
    "            self.deskripsi = \"Makanan\"\n",
    "        else:\n",
    "            self.deskripsi = \"Pakaian\"\n",
    "    def tampilkategori(self):\n",
    "        print(\"Kode:\",self.kode)\n",
    "        print(\"Deskripsi:\",self.deskripsi)\n",
    "class Barang(Kategori):\n",
    "    def __init__(self,nama,harga,diskon):\n",
    "        self.nama = nama\n",
    "        self.harga = harga\n",
    "        self.diskon = diskon\n",
    "    def tampilsemua(self):\n",
    "        raise NotImplementedError(\"Subclass must implement abstract method\")\n",
    "class Pakaian(Barang):\n",
    "    def __init__(self,kode,nama,harga,diskon,ukuran):\n",
    "        super().__init__(nama,harga,diskon)\n",
    "        Kategori.__init__(self,kode)\n",
    "        self.ukuran = ukuran\n",
    "    def tampilsemua(self):\n",
    "        print(\"Nama:\",self.nama)\n",
    "        print(\"Harga: Rp.\",self.harga)\n",
    "        print(\"Diskon:\",self.diskon)\n",
    "        print(\"Ukuran:\",self.ukuran)\n",
    "        print()\n",
    "class Makanan(Barang):\n",
    "    def __init__(self,kode,nama,harga,diskon,exdate):\n",
    "        super().__init__(nama,harga,diskon)\n",
    "        Kategori.__init__(self,kode)\n",
    "        self.exdate = exdate\n",
    "    def tampilsemua(self):\n",
    "        print(\"Nama:\",self.nama)\n",
    "        print(\"Harga: Rp.\",self.harga)\n",
    "        print(\"Diskon:\",self.diskon)\n",
    "        print(\"ExDate:\",self.exdate)\n",
    "        print()\n",
    "        \n",
    "#Implementasi dengan menggunakan Polymorpism with function\n",
    "def BeliBarang(barang):\n",
    "    barang.tampilkategori()\n",
    "    barang.tampilsemua()\n",
    "    \n",
    "baju = Pakaian(\"002\",\"Kaos\",55000,\"10%\",\"L\")\n",
    "makan = Makanan(\"001\",\"Sato Ayam\",10000,\"0%\",\"29/03/2019\")\n",
    "\n",
    "BeliBarang(baju)\n",
    "BeliBarang(makan)\n",
    "\n",
    "#Implementasi dengan menggunakan Polymorpism with class\n",
    "for barang in (baju,makan):\n",
    "    barang.tampilkategori()\n",
    "    barang.tampilsemua()"
   ]
  }
 ],
 "metadata": {
  "kernelspec": {
   "display_name": "Python 3",
   "language": "python",
   "name": "python3"
  },
  "language_info": {
   "codemirror_mode": {
    "name": "ipython",
    "version": 3
   },
   "file_extension": ".py",
   "mimetype": "text/x-python",
   "name": "python",
   "nbconvert_exporter": "python",
   "pygments_lexer": "ipython3",
   "version": "3.7.2"
  }
 },
 "nbformat": 4,
 "nbformat_minor": 2
}

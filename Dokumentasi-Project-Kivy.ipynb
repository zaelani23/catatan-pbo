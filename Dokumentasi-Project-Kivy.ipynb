{
 "cells": [
  {
   "cell_type": "markdown",
   "metadata": {},
   "source": [
    "<h1 align=\"center\"> PEMROGRAMAN BERBASIS OBJEK </h1>"
   ]
  },
  {
   "cell_type": "markdown",
   "metadata": {},
   "source": [
    "<h5 align=\"center\">APLIKASI DRUMPAD WITH KIVY</h5>\n",
    "\n",
    "<h6 align=\"center\">Dibuat Untuk Memenuhi Tugas Ulangan Akhir Sememster</h6>"
   ]
  },
  {
   "cell_type": "markdown",
   "metadata": {},
   "source": [
    "<img src=\"gambar/logo.jpg\">"
   ]
  },
  {
   "cell_type": "markdown",
   "metadata": {},
   "source": [
    "<h6 align=\"center\"> Dosen Pengampu:</h6>\n",
    "    \n",
    "<h6 align=\"center\">Arik Kurniawati, S.Kom,M.T</h6>"
   ]
  },
  {
   "cell_type": "markdown",
   "metadata": {},
   "source": [
    "<h6 align=\"center\"> Dibuat Oleh: </h6>\n",
    "<h6 align=\"center\"> Mohamad Zaelani (180441100030)</h6>\n",
    "<h6 align=\"center\"> Viki Wahyudi  (180441100122)</h6>"
   ]
  },
  {
   "cell_type": "markdown",
   "metadata": {},
   "source": [
    "<h1 align=\"center\">PRODI SISTEM INFORMASI</h1>\n",
    "<h1 align=\"center\">FAKULTAS TEKNIK</h1>\n",
    "<h1 align=\"center\">UNIVERSITAS TRUNOJOYO MADURA</h1>"
   ]
  },
  {
   "cell_type": "markdown",
   "metadata": {},
   "source": [
    "<h3> CODE PROJECT KIVY DRUMPAD</h3>"
   ]
  },
  {
   "cell_type": "code",
   "execution_count": null,
   "metadata": {},
   "outputs": [],
   "source": [
    "from kivy.app import App\n",
    "from kivy.core.audio import SoundLoader\n",
    "from kivy.core.window import Window\n",
    "\n",
    "from kivy.uix.gridlayout import GridLayout\n",
    "from kivy.uix.button import Button\n",
    "from kivy.properties import Clock\n",
    "\n",
    "Key = ['0', '1', '2',\n",
    "       '3', '4', '5',\n",
    "       '6', '7','8',\n",
    "       '9','q','w',\n",
    "       'e','r','t','y', ]\n",
    "\n",
    "class Drum(GridLayout):\n",
    "\n",
    "    def __init__(self, **kwargs):\n",
    "        super(Drum, self).__init__(**kwargs)\n",
    "\n",
    "        self.cols = 4\n",
    "        self.make_buttons()\n",
    "\n",
    "        self._keyboard = Window.request_keyboard(self._keyboard_closed, self)\n",
    "        self._keyboard.bind(on_key_down=self._on_keyboard_down)\n",
    "\n",
    "        self.is_pressed()\n",
    "\n",
    "    #Make Buttons\n",
    "    def make_buttons(self):\n",
    "        for text in Key:\n",
    "            self.add_widget(Button(text=str(text), size_hint=(0.1, 0.01)))\n",
    "\n",
    "    #Check to clicked buttons\n",
    "    def is_pressed(self):\n",
    "        for child in self.children:\n",
    "            child.bind(on_press=self.callback)\n",
    "\n",
    "    #callback for pressing buttons\n",
    "    def callback(self, instance):\n",
    "        self.Sound((instance.text))\n",
    "\n",
    "    #play sounds\n",
    "    def Sound(self, index):\n",
    "        sound = SoundLoader.load('wav/%s.wav' %index)\n",
    "        if sound:\n",
    "           sound.play()\n",
    "        return True\n",
    "\n",
    "    def _keyboard_closed(self):\n",
    "        self._keyboard.unbind(on_key_down=self._on_keyboard_down)\n",
    "        self._keyboard = None\n",
    "\n",
    "    #callback for change color of Buttons\n",
    "    def my_callback(self, dt):\n",
    "        for child in self.children:\n",
    "            child.background_color = [1, 1, 1, 1]\n",
    "\n",
    "    #event when we push keyboard keys\n",
    "    def _on_keyboard_down(self, keyboard, keycode, text, modifiers):\n",
    "        for index, item in enumerate(Key):\n",
    "            if keycode[1] == item:\n",
    "               self.children[-index - 1].background_color = (0, 2, 2, 1)\n",
    "               self.Sound(index)\n",
    "               Clock.schedule_once(self.my_callback, 0.4)\n",
    "\n",
    "class ProDrummerApp(App):\n",
    "     def build(self):\n",
    "         return Drum()\n",
    "\n",
    "if __name__ == '__main__':\n",
    "    ProDrummerApp().run()"
   ]
  },
  {
   "cell_type": "markdown",
   "metadata": {},
   "source": [
    "<h3>HASIL SCREEN SHOOT PROGRAM YANG DIJALANKAN</h3>"
   ]
  },
  {
   "cell_type": "markdown",
   "metadata": {},
   "source": [
    "<img src=\"gambar/prodrum.png\">"
   ]
  },
  {
   "cell_type": "markdown",
   "metadata": {},
   "source": [
    "<h3>PENGERTIAN DAN CARA INSTALASI KIVY</h3>"
   ]
  },
  {
   "cell_type": "markdown",
   "metadata": {},
   "source": [
    "<b>PENGERTIAN KIVY</b>"
   ]
  },
  {
   "cell_type": "markdown",
   "metadata": {},
   "source": [
    "Kivy adalah framework (kerangka kerja) Python yang dapat digunakan untuk membangun aplikasi berbasis NUI dengan ringkas, cepat dan mudah."
   ]
  },
  {
   "cell_type": "markdown",
   "metadata": {},
   "source": [
    "<b>INSTALASI KIVY</b>"
   ]
  },
  {
   "cell_type": "markdown",
   "metadata": {},
   "source": [
    "LANGKAH 1<br>\n",
    "Mendownload aplikasi Python <a href=\"https://www.python.org/downloads/\">di sini</a><br>\n",
    "<img src=\"gambar/install1.jpg\">"
   ]
  },
  {
   "cell_type": "markdown",
   "metadata": {},
   "source": [
    "LANGKAH 2<br>\n",
    "Setelah mendownload aplikasi Python, langsung lakukan proses instalasi python dan tunggu sampai selesai.<br>\n",
    "<img src=\"gambar/install2.jpg\">"
   ]
  },
  {
   "cell_type": "markdown",
   "metadata": {},
   "source": [
    "LANGKAH 3 <br>\n",
    "Masuk ke CMD (Command Prompt) dengan cara menekan tombol Windows lalu ketik CMD atau dengan cara menekan tombol WIndows + R lalu ketik CMD dan Enter. maka akan masuk ke dalam kotak dialog Command Prompt. Setelah masuk isikan coding sesuai seperti gambar yang ada di bawah ini.<br>\n",
    "<img src=\"gambar/install3.jpg\"><br><br>\n",
    "LANGKAH 4<br>\n",
    "Setelah proses instalasi selesai semua, maka bisa langsung di pakai. Untuk editornya bisa menggunakan IDLE."
   ]
  },
  {
   "cell_type": "markdown",
   "metadata": {},
   "source": [
    "<h3>Struktur Class dan Penjelasannya</h3>"
   ]
  },
  {
   "cell_type": "markdown",
   "metadata": {},
   "source": [
    "<h6 align=\"center\">ProDrummer DrumPad</h6><br>\n",
    "<img src=\"gambar/strukturclass.png\">"
   ]
  },
  {
   "cell_type": "markdown",
   "metadata": {},
   "source": [
    "Global Variabel:\n",
    "- Key : digunakan untuk inisialisasi keyboard\n",
    "\n",
    "Method dan Class dari kivy:\n",
    "1. init()\n",
    "2. run()\n",
    "3. SoundLoader.load()\n",
    "4. add_widget()\n",
    "5. sound.play()\n",
    "6. Clock.schedule_once\n",
    "7. bacground_color"
   ]
  },
  {
   "cell_type": "markdown",
   "metadata": {},
   "source": [
    "<b>Class dan Method untuk ProDrummerApp</b><br>\n",
    "<img src=\"gambar/classdrum.png\"><br>\n",
    "Class Drum<br>\n",
    "Memiliki property:\n",
    "- cols yaitu banyaknya kolom pada aplikasi\n",
    "- keyboards digunakan untuk inisialisasi keyboards (pad)\n",
    "\n",
    "Method<br>\n",
    "- __init__() konstruktor\n",
    "- make_buttons() digunakan untuk menginisialisasi tombol\n",
    "- is_pressed() memberi warna saat tombol ditekan\n",
    "- callback() memanggil audio\n",
    "- Sound() menginisialisasi audio\n",
    "- _keyboard_closed() menghilangkan warna saat tombol berhenti ditekan\n",
    "- my_callback() memanggil audio saat tombol ditekan menggunakan mouse/touchpad\n",
    "- _on_keyboard_down() memberi warna saat tombol ditekan menggunakan mouse/touchpad"
   ]
  },
  {
   "cell_type": "markdown",
   "metadata": {},
   "source": [
    "<img src=\"gambar/classprodrummer.png\"><br>\n",
    "Class ProDrummerApp\n",
    "Method\n",
    "- build() digunakan untuk menjalankan program saat file program di double klik."
   ]
  },
  {
   "cell_type": "markdown",
   "metadata": {},
   "source": [
    "<h3>Implementasi materi OOP pada project</h3>"
   ]
  },
  {
   "cell_type": "markdown",
   "metadata": {},
   "source": [
    "#1. Class<br>\n",
    "Class adalah cetak biru untuk membuat objek. Class menentukan apa yang dimiliki sebuah objek dan apa yang dapat dilakukan objek."
   ]
  },
  {
   "cell_type": "code",
   "execution_count": null,
   "metadata": {},
   "outputs": [],
   "source": [
    "class Drum(GridLayout):\n",
    "\n",
    "    def __init__(self, **kwargs):\n",
    "        super(Drum, self).__init__(**kwargs)\n",
    "\n",
    "        self.cols = 4\n",
    "        self.make_buttons()\n",
    "\n",
    "        self._keyboard = Window.request_keyboard(self._keyboard_closed, self)\n",
    "        self._keyboard.bind(on_key_down=self._on_keyboard_down)\n",
    "\n",
    "        self.is_pressed()\n",
    "\n",
    "    #Make Buttons\n",
    "    def make_buttons(self):\n",
    "        for text in Key:\n",
    "            self.add_widget(Button(text=str(text), size_hint=(0.1, 0.01)))\n",
    "\n",
    "    #Check to clicked buttons\n",
    "    def is_pressed(self):\n",
    "        for child in self.children:\n",
    "            child.bind(on_press=self.callback)\n",
    "\n",
    "    #callback for pressing buttons\n",
    "    def callback(self, instance):\n",
    "        self.Sound((instance.text))\n",
    "\n",
    "    #play sounds\n",
    "    def Sound(self, index):\n",
    "        sound = SoundLoader.load('wav/%s.wav' %index)\n",
    "        if sound:\n",
    "           sound.play()\n",
    "        return True\n",
    "\n",
    "    def _keyboard_closed(self):\n",
    "        self._keyboard.unbind(on_key_down=self._on_keyboard_down)\n",
    "        self._keyboard = None\n",
    "\n",
    "    #callback for change color of Buttons\n",
    "    def my_callback(self, dt):\n",
    "        for child in self.children:\n",
    "            child.background_color = [1, 1, 1, 1]\n",
    "\n",
    "    #event when we push keyboard keys\n",
    "    def _on_keyboard_down(self, keyboard, keycode, text, modifiers):\n",
    "        for index, item in enumerate(Key):\n",
    "            if keycode[1] == item:\n",
    "               self.children[-index - 1].background_color = (0, 2, 2, 1)\n",
    "               self.Sound(index)\n",
    "               Clock.schedule_once(self.my_callback, 0.4)\n",
    "\n",
    "class ProDrummerApp(App):\n",
    "     def build(self):\n",
    "         return Drum()"
   ]
  },
  {
   "cell_type": "markdown",
   "metadata": {},
   "source": [
    "#2. Inherentance<br>\n",
    "Inherentance atau pewarisan adalah konsep pemrograman dimana class dapat 'menurunkan' property dan method yang dimilikinya kepada class lain."
   ]
  },
  {
   "cell_type": "code",
   "execution_count": null,
   "metadata": {},
   "outputs": [],
   "source": [
    "class Drum(GridLayout):"
   ]
  },
  {
   "cell_type": "markdown",
   "metadata": {},
   "source": [
    "#3. Super Class"
   ]
  },
  {
   "cell_type": "code",
   "execution_count": null,
   "metadata": {},
   "outputs": [],
   "source": [
    "    def __init__(self, **kwargs):\n",
    "        super(Drum, self).__init__(**kwargs)"
   ]
  },
  {
   "cell_type": "markdown",
   "metadata": {},
   "source": [
    "#4. Konstruktor<br>\n",
    "Konstruktor adalah method khusus yang akan dijalankan secara otomatis pada saat sebuah objek dibuat(instansiasi)."
   ]
  },
  {
   "cell_type": "code",
   "execution_count": null,
   "metadata": {},
   "outputs": [],
   "source": [
    "    def __init__(self, **kwargs):\n",
    "        super(Drum, self).__init__(**kwargs)\n",
    "\n",
    "        self.cols = 4\n",
    "        self.make_buttons()\n",
    "\n",
    "        self._keyboard = Window.request_keyboard(self._keyboard_closed, self)\n",
    "        self._keyboard.bind(on_key_down=self._on_keyboard_down)\n",
    "\n",
    "        self.is_pressed()"
   ]
  },
  {
   "cell_type": "markdown",
   "metadata": {},
   "source": [
    "#5. Method Overloading<br>\n",
    "Method Overloading adalah sebuah kemampuan yang membolehkan sebuah class mempunyai 2 tau lebih method dengan nama yang sama, yang membedakan adalah parameternya. "
   ]
  },
  {
   "cell_type": "code",
   "execution_count": null,
   "metadata": {},
   "outputs": [],
   "source": [
    "    def __init__(self, **kwargs):"
   ]
  },
  {
   "cell_type": "markdown",
   "metadata": {},
   "source": [
    "#6. Enkapsulasi<br>\n",
    "Enkapsulasi adalah sebuah metode untuk mengatur struktur class dengan cara menyembunyikan alur kerja dari class tersebut. Struktur class yang dimaksud adalah property dan method."
   ]
  },
  {
   "cell_type": "code",
   "execution_count": null,
   "metadata": {},
   "outputs": [],
   "source": [
    "    def _keyboard_closed(self):\n",
    "        self._keyboard.unbind(on_key_down=self._on_keyboard_down)\n",
    "        self._keyboard = None"
   ]
  }
 ],
 "metadata": {
  "kernelspec": {
   "display_name": "Python 3",
   "language": "python",
   "name": "python3"
  },
  "language_info": {
   "codemirror_mode": {
    "name": "ipython",
    "version": 3
   },
   "file_extension": ".py",
   "mimetype": "text/x-python",
   "name": "python",
   "nbconvert_exporter": "python",
   "pygments_lexer": "ipython3",
   "version": "3.7.0"
  }
 },
 "nbformat": 4,
 "nbformat_minor": 2
}

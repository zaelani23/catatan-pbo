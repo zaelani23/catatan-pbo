{
 "cells": [
  {
   "cell_type": "code",
   "execution_count": 5,
   "metadata": {},
   "outputs": [
    {
     "name": "stdout",
     "output_type": "stream",
     "text": [
      "Ini adalah constructor\n",
      "Ultora Milek dengan ukuran 250 ml harganya Rp. 5500\n",
      "Ini adalah rahasia\n",
      "Ini adalah constructor\n",
      "Ultora Milek dengan ukuran 250 ml harganya Rp. 5500\n",
      "True\n",
      "True\n",
      "False\n"
     ]
    }
   ],
   "source": [
    "class Product:\n",
    "    __vendor_message = \"Ini adalah rahasia\"\n",
    "    name = \"\"\n",
    "    price = \"\"\n",
    "    size = \"\"\n",
    "    unit = \"\"\n",
    "\n",
    "    def __init__(self, name):\n",
    "        print (\"Ini adalah constructor\")\n",
    "        self.name = name\n",
    "        self.unit = \"ml\"\n",
    "        self.size = 250\n",
    "\n",
    "    def get_vendor_message(self):\n",
    "        print (self.__vendor_message)\n",
    "\n",
    "    def set_price(self, price):\n",
    "        self.price = price\n",
    "\n",
    "p = Product(\"Ultora Milek\")\n",
    "p.set_price(5500)\n",
    "\n",
    "print (\"%s dengan ukuran %s %s harganya Rp. %d\" % (p.name, p.size, p.unit, p.price))\n",
    "# print p.__vendor_message\n",
    "\n",
    "p.get_vendor_message()\n",
    "\n",
    "p1 = Product(\"Indomilek\")\n",
    "p1.set_price(5000)\n",
    "\n",
    "print(\"%s dengan ukuran %s %s harganya Rp. %d\" % (p.name, p.size, p.unit, p.price))\n",
    "\n",
    "print (p == p)\n",
    "print (p1 == p1)\n",
    "print (p == p1)"
   ]
  },
  {
   "cell_type": "code",
   "execution_count": 3,
   "metadata": {},
   "outputs": [
    {
     "name": "stdout",
     "output_type": "stream",
     "text": [
      "4\n",
      "Luas :  16\n",
      "Luas permukaan : 96\n",
      "volume : 64\n"
     ]
    }
   ],
   "source": [
    "class Kubus:\n",
    "    def __init__(self,s):\n",
    "        self.sisi = s\n",
    "    def tampilkansisi(self):\n",
    "        print(self.sisi)\n",
    "    def luas(self):\n",
    "        print(\"Luas : \",self.sisi**2)\n",
    "    def luaspermukaan(self):\n",
    "        print(\"Luas permukaan :\",self.sisi**2*6)\n",
    "    def volume(self):\n",
    "        print(\"volume :\",self.sisi**3)\n",
    "\n",
    "kubus1 = Kubus(4)\n",
    "kubus1.tampilkansisi()\n",
    "kubus1.luas()\n",
    "kubus1.luaspermukaan()\n",
    "kubus1.volume()"
   ]
  },
  {
   "cell_type": "code",
   "execution_count": 5,
   "metadata": {},
   "outputs": [
    {
     "name": "stdout",
     "output_type": "stream",
     "text": [
      "Mohamad Zaelani , Direktur , 15000000\n",
      "Umur : 19\n"
     ]
    }
   ],
   "source": [
    "from datetime import datetime\n",
    "sekarang = datetime.now()\n",
    "tahun = sekarang.year\n",
    "\n",
    "class Pegawai:\n",
    "    def __init__(self,n,j,g,lahir):\n",
    "        self.nama = n\n",
    "        self.jabatan = j\n",
    "        self.gaji = g\n",
    "        self.tahunlahir = lahir\n",
    "    def tampilkan(self):\n",
    "        print(self.nama,\",\",self.jabatan,\",\",self.gaji*30)\n",
    "    def tampilkanumur(self):\n",
    "        print(\"Umur :\",tahun - self.tahunlahir)\n",
    "        \n",
    "p1 = Pegawai(\"Mohamad Zaelani\",\"Direktur\",500000,2000)\n",
    "p1.tampilkan()\n",
    "p1.tampilkanumur()"
   ]
  },
  {
   "cell_type": "code",
   "execution_count": 1,
   "metadata": {},
   "outputs": [
    {
     "name": "stdout",
     "output_type": "stream",
     "text": [
      "Mohamad Zaelani , 180441100030 , 2.75\n",
      "Mohamad Zaelani tidak layak bidikmisi\n",
      "Siapa dia? , 180441100030 , 3.5\n",
      "Anda layak Bidikmisi\n",
      "False\n"
     ]
    }
   ],
   "source": [
    "class Mahasiswa:\n",
    "    def __init__(self,n,no,ip):\n",
    "        self.nama = n\n",
    "        self.nim = no\n",
    "        self.ipk = ip\n",
    "    def ceklayak(self):\n",
    "        if(self.ipk<3):\n",
    "            print(self.nama,\"tidak layak bidikmisi\")\n",
    "        else:\n",
    "            print(\"Anda layak Bidikmisi\")\n",
    "    def datamhs(self):\n",
    "        print(self.nama,\",\",self.nim,\",\",self.ipk)\n",
    "        \n",
    "m1 = Mahasiswa(\"Mohamad Zaelani\",\"180441100030\",2.75)\n",
    "m1.datamhs()\n",
    "m1.ceklayak()\n",
    "m2 = Mahasiswa(\"Siapa dia?\",\"180441100030\",3.5)\n",
    "m2.datamhs()\n",
    "m2.ceklayak()\n",
    "print(m1==m2)"
   ]
  },
  {
   "cell_type": "code",
   "execution_count": 19,
   "metadata": {},
   "outputs": [
    {
     "name": "stdout",
     "output_type": "stream",
     "text": [
      "Nama depan saya brian\n",
      "Nama depan saya Diana\n",
      "Nama belakang saya Maya\n",
      "name: Diana Maya\n",
      "Programer python\n"
     ]
    }
   ],
   "source": [
    "class User:\n",
    "    name = \"\"\n",
    "    def __init__(self, firstname):\n",
    "        self.firstname = firstname\n",
    "        print(\"Nama depan saya\",self.firstname)\n",
    "class Programmer(User):\n",
    "    def __init__(self,first,lastname):\n",
    "        super().__init__(first)\n",
    "        print(\"Nama belakang saya\",lastname)\n",
    "        self.lastname = lastname        \n",
    "    def doPython(self):\n",
    "        print(\"Programer python\")\n",
    "    def printName(self):\n",
    "        print(\"name:\",self.firstname,self.lastname)\n",
    "        \n",
    "brian = User(\"brian\")\n",
    "diana = Programmer(\"Diana\",\"Maya\")\n",
    "diana.printName()\n",
    "diana.doPython()"
   ]
  },
  {
   "cell_type": "code",
   "execution_count": 4,
   "metadata": {},
   "outputs": [
    {
     "name": "stdout",
     "output_type": "stream",
     "text": [
      "Terry Fish\n",
      "bone\n",
      "False\n",
      "The fish is swimming\n",
      "The fish can swim backwards\n",
      "Casey Fish\n",
      "The fish is swimming\n",
      "The clownfish is coexisting with sea anemone\n"
     ]
    }
   ],
   "source": [
    "class Fish:\n",
    "    def __init__(self,first_name,last_name=\"Fish\",skeleton=\"bone\",eyelids=False):\n",
    "        self.first_name = first_name\n",
    "        self.last_name = last_name\n",
    "        self.skeleton = skeleton\n",
    "        self.eyelids = eyelids\n",
    "    def swim(self):\n",
    "        print(\"The fish is swimming\")\n",
    "    def swim_backwards(self):\n",
    "        print(\"The fish can swim backwards\")\n",
    "#defauld yaitu semua atribut class induk diwariskan\n",
    "class Trout(Fish):\n",
    "    pass\n",
    "class Clownfish(Fish):\n",
    "    def live_with_anemone(self):\n",
    "        print(\"The clownfish is coexisting with sea anemone\")\n",
    "        \n",
    "#Overide yaitu isi dari method dan properti diganti nilainya\n",
    "class Shark(Fish):\n",
    "    def __init__(self,first_name,last_name=\"Shark\",skeleton=\"cartilage\",eyelids=True):\n",
    "        self.first_name = first_name\n",
    "        self.last_name = last_name\n",
    "        self.skeleton = skeleton\n",
    "        self.eyelids = eyelids\n",
    "    def swim_backwards(self):\n",
    "        print(\"The shark can't swim backwards, but can sink backwards\")\n",
    "#super yaitu menambahkan atribut yang unik pada class anak dan method lainya sama seperti induk\n",
    "class Ikan(Fish):\n",
    "    def __init__(self,water,first_name,last_name,skeleton,eyelids):\n",
    "        self.water = water\n",
    "        fish.__init__(self)\n",
    "        #atau\n",
    "        super().__init__(self)\n",
    "\n",
    "        \n",
    "terry = Trout(\"Terry\")\n",
    "print(terry.first_name+\" \"+terry.last_name)\n",
    "print(terry.skeleton)\n",
    "print(terry.eyelids)\n",
    "terry.swim()\n",
    "terry.swim_backwards()\n",
    "\n",
    "casey = Clownfish(\"Casey\")\n",
    "print(casey.first_name+\" \"+casey.last_name)\n",
    "casey.swim()\n",
    "casey.live_with_anemone()"
   ]
  },
  {
   "cell_type": "code",
   "execution_count": 6,
   "metadata": {},
   "outputs": [
    {
     "name": "stdout",
     "output_type": "stream",
     "text": [
      "Coral lives in a community\n",
      "The anemone is protecting the clownfish\n"
     ]
    }
   ],
   "source": [
    "#multiple inherentance\n",
    "class Coral:\n",
    "    def community(self):\n",
    "        print(\"Coral lives in a community\")\n",
    "        \n",
    "class Anemone:\n",
    "    def protect_clownfish(self):\n",
    "        print(\"The anemone is protecting the clownfish\")\n",
    "        \n",
    "class CoralReef(Coral,Anemone):\n",
    "    pass\n",
    "\n",
    "great_barrier = CoralReef()\n",
    "great_barrier.community()\n",
    "great_barrier.protect_clownfish()"
   ]
  },
  {
   "cell_type": "code",
   "execution_count": 29,
   "metadata": {},
   "outputs": [
    {
     "name": "stdout",
     "output_type": "stream",
     "text": [
      "Nama saya Mohamad Zaelani\n",
      "Saya seorang mahasiswa Universitas Trunojoyo Madura\n",
      "NIM saya 180441100030 \n",
      "\n",
      "Nama saya Anik\n",
      "NIP saya 198702111999122210002\n",
      "Saya seorang Dosen\n",
      "\n",
      "Nama saya Budi\n",
      "NIP saya 198702111999122210026\n",
      "Saya seorang karyawan\n",
      "\n"
     ]
    }
   ],
   "source": [
    "class Orang:\n",
    "    def __init__(self,nama):\n",
    "        self.nama = nama\n",
    "        print(\"Nama saya\",self.nama)\n",
    "        \n",
    "class Mahasiswa(Orang):\n",
    "    def __init__(self,nim,name):\n",
    "        super().__init__(name)\n",
    "        self.nim = nim\n",
    "        print(\"Saya seorang mahasiswa Universitas Trunojoyo Madura\")\n",
    "        print(\"NIM saya\", self.nim,\"\\n\")\n",
    "        \n",
    "class Pegawai(Orang):\n",
    "    def __init__(self,nip,name):\n",
    "        super().__init__(name)\n",
    "        self.nip = nip\n",
    "        print(\"NIP saya\",self.nip)\n",
    "\n",
    "class Karyawan(Pegawai):\n",
    "    def __init__(self,nip,name):\n",
    "        super().__init__(nip,name)\n",
    "        print(\"Saya seorang karyawan\\n\")\n",
    "        \n",
    "class Dosen(Pegawai):\n",
    "    def __init__(self,nip,name):\n",
    "        super().__init__(nip,name)\n",
    "        print(\"Saya seorang Dosen\\n\")\n",
    "        \n",
    "saya = Mahasiswa(\"180441100030\",\"Mohamad Zaelani\")\n",
    "ibu = Dosen(\"198702111999122210002\",\"Anik\")\n",
    "bpk = Karyawan(\"198702111999122210026\",\"Budi\")"
   ]
  },
  {
   "cell_type": "code",
   "execution_count": 31,
   "metadata": {},
   "outputs": [
    {
     "name": "stdout",
     "output_type": "stream",
     "text": [
      "Nama: Mule\n",
      "Jenis rambut: Coklat\n",
      "Nama: Mule\n",
      "Berat: 780Kg\n"
     ]
    }
   ],
   "source": [
    "class Kuda:\n",
    "    def __init__(self,nama,rambut=\"Merah\"):\n",
    "        self.nama = nama\n",
    "        self.rambut = rambut\n",
    "    def tampilkan(self):\n",
    "        print(\"Nama:\",self.nama)\n",
    "        print(\"Jenis rambut:\",self.rambut)\n",
    "        \n",
    "class Keledai:\n",
    "    def __init__(self,nama,berat=\"780Kg\"):\n",
    "        self.nama = nama\n",
    "        self.berat = berat\n",
    "    def tampil(self):\n",
    "        print(\"Nama:\",self.nama)\n",
    "        print(\"Berat:\",self.berat)\n",
    "        \n",
    "class Mule(Keledai,Kuda):\n",
    "    def __init__(self,nama,berat=\"500Kg\",rambut=\"Merah\"):\n",
    "        self.nama = nama\n",
    "        self.berat = berat\n",
    "        self.rambut = rambut\n",
    "    \n",
    "anak = Mule(\"Mule\",\"780Kg\",\"Coklat\")\n",
    "anak.tampilkan()\n",
    "anak.tampil()"
   ]
  },
  {
   "cell_type": "code",
   "execution_count": 14,
   "metadata": {},
   "outputs": [
    {
     "name": "stdout",
     "output_type": "stream",
     "text": [
      "Nama: Mohamad Zaelani\n",
      "Kode karyawan: 18728163816168\n",
      "Kode cabang: 82179736318\n",
      "\n",
      "Nama: Anton\n",
      "Kode karyawan: 118165612516\n",
      "Kode cabang: 6168368136\n",
      "\n"
     ]
    }
   ],
   "source": [
    "class Orang:\n",
    "    def __init__(self,nama):\n",
    "        self.nama = nama\n",
    "    def cetaknama(self):\n",
    "        print(\"Nama:\",self.nama)\n",
    "\n",
    "class Karyawan(Orang):\n",
    "    def __init__(self,nama,kode):\n",
    "        super().__init__(nama)\n",
    "        self.kode = kode\n",
    "    def cetakkaryawan(self):\n",
    "        super().cetaknama()\n",
    "        print(\"Kode karyawan:\",self.kode)\n",
    "\n",
    "class KaryawanCabang(Karyawan):\n",
    "    def __init__(self,nama,kode,kodecab):\n",
    "        super().__init__(nama,kode)\n",
    "        self.kodecab = kodecab\n",
    "    def cetakkarcab(self):\n",
    "        super().cetakkaryawan()\n",
    "        print(\"Kode cabang:\",self.kodecab+\"\\n\")\n",
    "\n",
    "saya = KaryawanCabang(\"Mohamad Zaelani\",\"18728163816168\",\"82179736318\")\n",
    "saya.cetakkarcab()\n",
    "dia = KaryawanCabang(\"Anton\",\"118165612516\",\"6168368136\")\n",
    "dia.cetakkarcab()"
   ]
  },
  {
   "cell_type": "code",
   "execution_count": 14,
   "metadata": {},
   "outputs": [
    {
     "name": "stdout",
     "output_type": "stream",
     "text": [
      "Nama: Mohamad Zaelani\n",
      "NIP: 180441100030\n",
      "Nama Mata kuliah: PBO\n",
      "Kode Mata kuliah: SI101\n",
      "Nilai: A\n"
     ]
    }
   ],
   "source": [
    "class Mahasiswa:\n",
    "    def __init__(self,nama,npm):\n",
    "        self.nama = nama\n",
    "        self.nip = npm\n",
    "    def namanip(self):\n",
    "        print(\"Nama:\",self.nama)\n",
    "        print(\"NIP:\",self.nip)\n",
    "class Matkul:\n",
    "    def cetakmatkul(self,kode,mk):        \n",
    "        self.kodemk = kode\n",
    "        self.matkul = mk\n",
    "        print(\"Nama Mata kuliah:\",self.matkul)\n",
    "        print(\"Kode Mata kuliah:\",self.kodemk)\n",
    "class AmbilMatkul(Mahasiswa,Matkul):\n",
    "    def __init__(self,nama,npm,kode,mk,nilai):\n",
    "        self.nama = nama\n",
    "        self.nim = npm\n",
    "        self.kdmk = kode\n",
    "        self.mk = mk\n",
    "        self.nilai = nilai\n",
    "    def cetak(self):\n",
    "        Mahasiswa.__init__(self,self.nama,self.nim)\n",
    "        Mahasiswa.namanip(self)\n",
    "        super().cetakmatkul(self.kdmk,self.mk)\n",
    "        print(\"Nilai:\",self.nilai)\n",
    "        \n",
    "saya = AmbilMatkul(\"Mohamad Zaelani\",\"180441100030\",\"SI101\",\"PBO\",\"A\")\n",
    "saya.cetak()"
   ]
  },
  {
   "cell_type": "code",
   "execution_count": 5,
   "metadata": {},
   "outputs": [
    {
     "name": "stdout",
     "output_type": "stream",
     "text": [
      "The shark's skeleton is made of cartilage.\n",
      "The clownfish's skeleton is made of bone.\n",
      "The shark is swimming.\n",
      "The clownfish is swimming.\n",
      "The shark cannot swim backwards, but can sink backwards.\n",
      "The clownfish can swim backwards.\n"
     ]
    }
   ],
   "source": [
    "class Shark:\n",
    "    def swim(self):\n",
    "        print(\"The shark is swimming.\")\n",
    "    def swim_backwards(self):\n",
    "        print(\"The shark cannot swim backwards, but can sink backwards.\")\n",
    "    def skeleton(self):\n",
    "        print(\"The shark's skeleton is made of cartilage.\")\n",
    "class Clownfish():\n",
    "    def swim(self):\n",
    "        print(\"The clownfish is swimming.\")\n",
    "    def swim_backwards(self):\n",
    "        print(\"The clownfish can swim backwards.\")\n",
    "    def skeleton(self):\n",
    "        print(\"The clownfish's skeleton is made of bone.\")\n",
    "        \n",
    "sammy = Shark()\n",
    "sammy.skeleton()\n",
    "cassy = Clownfish()\n",
    "cassy.skeleton()\n",
    "\n",
    "def di_pasifik(fish):\n",
    "    fish.swim()\n",
    "    \n",
    "di_pasifik(sammy)\n",
    "di_pasifik(cassy)\n",
    "\n",
    "for ikan in (sammy,cassy):\n",
    "    ikan.swim_backwards()"
   ]
  },
  {
   "cell_type": "code",
   "execution_count": 4,
   "metadata": {},
   "outputs": [
    {
     "name": "stdout",
     "output_type": "stream",
     "text": [
      "Groaaarr\n",
      "Guukk guukk guukk\n"
     ]
    }
   ],
   "source": [
    "class Bear:\n",
    "    def sound(self):\n",
    "        print(\"Groaaarr\")\n",
    "class Dog:\n",
    "    def sound(self):\n",
    "        print(\"Guukk guukk guukk\")\n",
    "        \n",
    "def make_sound(animal):\n",
    "    animal.sound()\n",
    "    \n",
    "beruang = Bear()\n",
    "anjing = Dog()\n",
    "\n",
    "make_sound(beruang)\n",
    "make_sound(anjing)"
   ]
  },
  {
   "cell_type": "code",
   "execution_count": 1,
   "metadata": {},
   "outputs": [
    {
     "name": "stdout",
     "output_type": "stream",
     "text": [
      "Document1: Show pdf contents!\n",
      "Document2: Show pdf contents!\n",
      "Document3: Show word contents!\n"
     ]
    }
   ],
   "source": [
    "class Document:\n",
    "    def __init__(self, name):\n",
    "        self.name = name\n",
    "    def show(self):\n",
    "        raise NotImplementedError(\"Subclass must implement abstract method\")\n",
    "class Pdf(Document):\n",
    "    def show(self):\n",
    "        return 'Show pdf contents!'\n",
    "class Word(Document):\n",
    "    def show(self):\n",
    "        return 'Show word contents!'\n",
    "documents = [Pdf('Document1'),Pdf('Document2'),Word('Document3')]\n",
    "for document in documents:\n",
    "    print (document.name + ': ' + document.show())"
   ]
  },
  {
   "cell_type": "code",
   "execution_count": 2,
   "metadata": {},
   "outputs": [
    {
     "name": "stdout",
     "output_type": "stream",
     "text": [
      "Bananatruck: Truck driving slowly because heavily loaded.\n",
      "Orangetruck: Truck driving slowly because heavily loaded.\n",
      "Z3: Sportscar driving!\n"
     ]
    }
   ],
   "source": [
    "class Car:\n",
    "    def __init__(self, name):\n",
    "        self.name = name\n",
    "    def drive(self):\n",
    "        raise NotImplementedError(\"Subclass must implement abstract method\")\n",
    "    def stop(self):\n",
    "        raise NotImplementedError(\"Subclass must implement abstract method\")\n",
    "class Sportscar(Car):\n",
    "    def drive(self):\n",
    "        return 'Sportscar driving!'\n",
    "    def stop(self):\n",
    "        return 'Sportscar braking!'\n",
    "class Truck(Car):\n",
    "    def drive(self):\n",
    "        return 'Truck driving slowly because heavily loaded.'\n",
    "    def stop(self):\n",
    "        return 'Truck braking!'\n",
    "cars = [Truck('Bananatruck'),Truck('Orangetruck'),Sportscar('Z3')]\n",
    "for car in cars:\n",
    "    print (car.name + ': ' + car.drive())"
   ]
  },
  {
   "cell_type": "code",
   "execution_count": 24,
   "metadata": {},
   "outputs": [
    {
     "name": "stdout",
     "output_type": "stream",
     "text": [
      "20\n",
      "120\n"
     ]
    }
   ],
   "source": [
    "def product(*args):\n",
    "    answer = 1\n",
    "    for x in args:\n",
    "        answer = answer * x\n",
    "    print(answer)\n",
    "product(4,5)\n",
    "product(4,5,6)"
   ]
  },
  {
   "cell_type": "code",
   "execution_count": 4,
   "metadata": {},
   "outputs": [
    {
     "name": "stdout",
     "output_type": "stream",
     "text": [
      "100\n",
      "HIGeeks\n"
     ]
    }
   ],
   "source": [
    "def add(datatype,*args):\n",
    "    if datatype==\"int\":\n",
    "        answer = 0\n",
    "    if datatype==\"str\":\n",
    "        answer = \"\"\n",
    "    for x in args:\n",
    "        answer = answer + x\n",
    "    print(answer)\n",
    "#integer\n",
    "add(\"int\",5,6,7,82)\n",
    "#string\n",
    "add(\"str\",\"HI\",\"Geeks\")"
   ]
  },
  {
   "cell_type": "code",
   "execution_count": 8,
   "metadata": {},
   "outputs": [
    {
     "name": "stdout",
     "output_type": "stream",
     "text": [
      "Hello \n",
      "Hello Guido\n"
     ]
    }
   ],
   "source": [
    "class Human: \n",
    "    def sayHello(self, name=None):\n",
    "        if name is not None:\n",
    "            print ('Hello ' + name)\n",
    "        else:\n",
    "            print ('Hello ')\n",
    " \n",
    "# Create instance\n",
    "obj = Human()\n",
    " \n",
    "# Call the method\n",
    "obj.sayHello()\n",
    " \n",
    "# Call the method with a parameter\n",
    "obj.sayHello('Guido')"
   ]
  },
  {
   "cell_type": "code",
   "execution_count": 21,
   "metadata": {},
   "outputs": [
    {
     "name": "stdout",
     "output_type": "stream",
     "text": [
      "Point object is at (3,1)\n",
      "Point object is at (1,5)\n"
     ]
    }
   ],
   "source": [
    "class Point:\n",
    "    def __init__(self,x=0,y=0):\n",
    "        self.x = x\n",
    "        self.y = y\n",
    "    #def __str__(self):\n",
    "    #    return \"((0),(1))\".format(self.x,self.y)\n",
    "    def __str__(self):\n",
    "        return \"Point object is at (\"+str(self.x)+\",\"+str(self.y)+\")\"\n",
    "    def __sub__(self,other):\n",
    "        x = self.x - other.x\n",
    "        y = self.y - other.y\n",
    "        return Point(x,y)\n",
    "    def __add__(self,other):\n",
    "        x = self.x + other.x\n",
    "        y = self.y + other.y\n",
    "        return Point(x,y)\n",
    "p1 = Point(2,3)\n",
    "p2 = Point(-1,2)\n",
    "print(p1-p2)\n",
    "print(p1+p2)"
   ]
  },
  {
   "cell_type": "code",
   "execution_count": 23,
   "metadata": {},
   "outputs": [
    {
     "name": "stdout",
     "output_type": "stream",
     "text": [
      "2/4\n",
      "6/8\n",
      "2/4\n"
     ]
    }
   ],
   "source": [
    "class Fraction:\n",
    "    def __init__(self,top,bottom):\n",
    "        self.num = top\n",
    "        self.den = bottom\n",
    "    #def show(self):\n",
    "    #   print( str(self.num)+\"/\"+str(self.den) )\n",
    "    def __str__(self):\n",
    "        return str(self.num)+\"/\"+str(self.den)\n",
    "    def __add__(self,otherfraction):\n",
    "        newnum = self.num*otherfraction.den+self.den*otherfraction.num\n",
    "        newden = self.den * otherfraction.den\n",
    "        return Fraction(newnum,newden)\n",
    "    def __truediv__(self,otherfraction):\n",
    "        newnum = self.num * otherfraction.den\n",
    "        newden = self.den * otherfraction.num\n",
    "        return Fraction(newnum,newden)\n",
    "f = Fraction(2,4)\n",
    "#f.show()\n",
    "print(f)\n",
    "f1 = Fraction(1,4)\n",
    "f2 = Fraction(1,2)\n",
    "print(f1+f2)\n",
    "print(f1/f2)"
   ]
  },
  {
   "cell_type": "code",
   "execution_count": 5,
   "metadata": {},
   "outputs": [
    {
     "name": "stdout",
     "output_type": "stream",
     "text": [
      "22\n",
      "23\n",
      "23\n"
     ]
    }
   ],
   "source": [
    "#encapsulation\n",
    "class Robot(object):\n",
    "    def __init__(self):\n",
    "        self.__version = 22\n",
    "    def getVersion(self):\n",
    "        print(self.__version)\n",
    "    def setVersion(self,version):\n",
    "        self.__version = version\n",
    "        \n",
    "obj = Robot()\n",
    "obj.getVersion()\n",
    "obj.setVersion(23)\n",
    "obj.getVersion()\n",
    "#print(obj.__version) #jika tanpa komentar akan eror\n",
    "print(obj._Robot__version) #Harus memasukan nama class karena "
   ]
  },
  {
   "cell_type": "code",
   "execution_count": 12,
   "metadata": {},
   "outputs": [
    {
     "name": "stdout",
     "output_type": "stream",
     "text": [
      "This is a public method\n",
      "This is a private method\n",
      "This is another private method\n"
     ]
    }
   ],
   "source": [
    "class A(object):\n",
    "    #public method\n",
    "    def myPublicMethod(self):\n",
    "        return \"This is a public method\"\n",
    "    #private method with single underscore\n",
    "    def _myPrivateMethod(self):\n",
    "        return \"This is a private method\"\n",
    "    #private method with double underscore\n",
    "    def __myAnotherPrivateMethod(self):\n",
    "        return \"This is another private method\"\n",
    "#nama objek\n",
    "obj1 = A()\n",
    "#we can access the public mehod which is cool\n",
    "print(obj1.myPublicMethod())\n",
    "#Note that we can also access the private method from outside\n",
    "print(obj1._myPrivateMethod())\n",
    "#However, you can still call the double underscore method\n",
    "#by appending the _class name before method name\n",
    "print(obj1._A__myAnotherPrivateMethod())"
   ]
  },
  {
   "cell_type": "code",
   "execution_count": 8,
   "metadata": {},
   "outputs": [
    {
     "name": "stdout",
     "output_type": "stream",
     "text": [
      "updating software\n",
      "driving\n"
     ]
    }
   ],
   "source": [
    "class Car:\n",
    "    def __init__(self):\n",
    "        self.__updateSoftware()\n",
    " \n",
    "    def drive(self):\n",
    "        print ('driving')\n",
    " \n",
    "    def __updateSoftware(self):\n",
    "        print ('updating software')\n",
    "        \n",
    "redcar = Car()\n",
    "redcar.drive()\n",
    "#redcar.__updateSoftware()  not accesible from object."
   ]
  },
  {
   "cell_type": "code",
   "execution_count": 13,
   "metadata": {},
   "outputs": [
    {
     "name": "stdout",
     "output_type": "stream",
     "text": [
      "driving. maxspeed 200\n",
      "driving. maxspeed 200\n",
      "driving. maxspeed 10\n",
      "driving. maxspeed 15\n"
     ]
    }
   ],
   "source": [
    "class Car:\n",
    "    __maxspeed = 0\n",
    "    __name = \"\"\n",
    "\n",
    "    def __init__(self):\n",
    "        self.__maxspeed = 200\n",
    "        self.__name = (\"Supercar\")\n",
    "\n",
    "    def drive(self):\n",
    "        print ('driving. maxspeed ' + str(self.__maxspeed))\n",
    "    \n",
    "    def setMaxSpeed(self,speed):\n",
    "        self.__maxspeed = speed\n",
    "        \n",
    "redcar = Car()\n",
    "redcar.drive()\n",
    "redcar.__maxspeed = 10  # will not change variable because its private\n",
    "redcar.drive()\n",
    "redcar._Car__maxspeed = 10 #Harus menggunakan _class sebelum nama method\n",
    "redcar.drive()\n",
    "#Atau bisa menggunakan method\n",
    "redcar.setMaxSpeed(15)\n",
    "redcar.drive()"
   ]
  },
  {
   "cell_type": "code",
   "execution_count": null,
   "metadata": {},
   "outputs": [],
   "source": []
  }
 ],
 "metadata": {
  "kernelspec": {
   "display_name": "Python 3",
   "language": "python",
   "name": "python3"
  },
  "language_info": {
   "codemirror_mode": {
    "name": "ipython",
    "version": 3
   },
   "file_extension": ".py",
   "mimetype": "text/x-python",
   "name": "python",
   "nbconvert_exporter": "python",
   "pygments_lexer": "ipython3",
   "version": "3.7.2"
  }
 },
 "nbformat": 4,
 "nbformat_minor": 2
}
